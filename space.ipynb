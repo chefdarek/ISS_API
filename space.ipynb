{
 "cells": [
  {
   "cell_type": "code",
   "execution_count": 2,
   "metadata": {},
   "outputs": [],
   "source": [
    "import requests as rq\n",
    "import json"
   ]
  },
  {
   "cell_type": "code",
   "execution_count": null,
   "metadata": {},
   "outputs": [],
   "source": [
    "#Using the Open-notify ISS locator API\n",
    "#the webpage is and info is located at for requests\n",
    "http://open-notify.org/Open-Notify-API/ISS-Location-Now/"
   ]
  },
  {
   "cell_type": "code",
   "execution_count": 5,
   "metadata": {},
   "outputs": [],
   "source": [
    "#requests are how you query an API call\n",
    "#\n",
    "response = rq.get('http://api.open-notify.org/iss-now.json')"
   ]
  },
  {
   "cell_type": "code",
   "execution_count": 6,
   "metadata": {},
   "outputs": [
    {
     "name": "stdout",
     "output_type": "stream",
     "text": [
      "200\n"
     ]
    }
   ],
   "source": [
    "#status code 200 means everything is okay and you got a response\n",
    "#301 means redirected to a different endpoint\n",
    "#401 is authentication error, normally key problem\n",
    "#400 is bad request, bad link, unkown function\n",
    "#403 is access is forbidden\n",
    "#404 is not found, of course\n",
    "\n",
    "print(response.status_code)"
   ]
  },
  {
   "cell_type": "code",
   "execution_count": 7,
   "metadata": {},
   "outputs": [
    {
     "name": "stdout",
     "output_type": "stream",
     "text": [
      "<Response [200]>\n"
     ]
    }
   ],
   "source": [
    "print(response)"
   ]
  },
  {
   "cell_type": "code",
   "execution_count": 8,
   "metadata": {},
   "outputs": [],
   "source": [
    "#you could pass into the browser the same URL with your Get request at the end\n",
    "#by using a ? before the request and then & between multiple calls\n",
    "#in a notebook we can do the same\n",
    "\n",
    "#parameters are the latitude and longitude of our location\n",
    "parameters = {\"lat\":40.71, \"lon\":-74}"
   ]
  },
  {
   "cell_type": "code",
   "execution_count": 10,
   "metadata": {},
   "outputs": [],
   "source": [
    "response = rq.get('http://api.open-notify.org/iss-now.json', params=parameters)"
   ]
  },
  {
   "cell_type": "code",
   "execution_count": 13,
   "metadata": {},
   "outputs": [
    {
     "name": "stdout",
     "output_type": "stream",
     "text": [
      "b'{\"message\": \"success\", \"iss_position\": {\"longitude\": \"-20.6945\", \"latitude\": \"-10.6976\"}, \"timestamp\": 1563900262}'\n"
     ]
    }
   ],
   "source": [
    "#Here we get the same respones as the browser\n",
    "#This is showing us where the International Space Sttation is in relation to the \n",
    "#longitude and latitude we have passed \n",
    "print(response.content)"
   ]
  },
  {
   "cell_type": "code",
   "execution_count": null,
   "metadata": {},
   "outputs": [],
   "source": [
    "#For data science means this could be the start of your ETL colecting data"
   ]
  }
 ],
 "metadata": {
  "kernelspec": {
   "display_name": "Python 3",
   "language": "python",
   "name": "python3"
  },
  "language_info": {
   "codemirror_mode": {
    "name": "ipython",
    "version": 3
   },
   "file_extension": ".py",
   "mimetype": "text/x-python",
   "name": "python",
   "nbconvert_exporter": "python",
   "pygments_lexer": "ipython3",
   "version": "3.7.3"
  }
 },
 "nbformat": 4,
 "nbformat_minor": 2
}
